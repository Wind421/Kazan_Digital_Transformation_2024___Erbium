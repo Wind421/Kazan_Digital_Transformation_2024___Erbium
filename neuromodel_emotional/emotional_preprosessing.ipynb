{
 "cells": [
  {
   "cell_type": "code",
   "execution_count": 1,
   "metadata": {},
   "outputs": [
    {
     "name": "stderr",
     "output_type": "stream",
     "text": [
      "[nltk_data] Downloading package stopwords to\n",
      "[nltk_data]     C:\\Users\\Dasha\\AppData\\Roaming\\nltk_data...\n",
      "[nltk_data]   Package stopwords is already up-to-date!\n"
     ]
    }
   ],
   "source": [
    "import pandas as pd\n",
    "import matplotlib.pyplot as plt\n",
    "import re\n",
    "pd.set_option('display.max_rows', None) \n",
    "pd.set_option('display.max_columns', None)\n",
    "pd.set_option('display.max_colwidth', None)\n",
    "\n",
    "import nltk\n",
    "from nltk.tokenize import word_tokenize\n",
    "from nltk.corpus import stopwords\n",
    "nltk.download('stopwords')\n",
    "import spacy\n",
    "nlp = spacy.load('ru_core_news_sm')\n",
    "\n",
    "from tqdm import tqdm"
   ]
  },
  {
   "cell_type": "markdown",
   "metadata": {},
   "source": [
    "### Загрузка датасета"
   ]
  },
  {
   "cell_type": "code",
   "execution_count": 2,
   "metadata": {},
   "outputs": [],
   "source": [
    "df=pd.read_csv(r'D:\\Python_Projects\\hakaton\\dataset\\emotional_dataset.csv')"
   ]
  },
  {
   "cell_type": "code",
   "execution_count": 3,
   "metadata": {},
   "outputs": [
    {
     "data": {
      "text/html": [
       "<div>\n",
       "<style scoped>\n",
       "    .dataframe tbody tr th:only-of-type {\n",
       "        vertical-align: middle;\n",
       "    }\n",
       "\n",
       "    .dataframe tbody tr th {\n",
       "        vertical-align: top;\n",
       "    }\n",
       "\n",
       "    .dataframe thead th {\n",
       "        text-align: right;\n",
       "    }\n",
       "</style>\n",
       "<table border=\"1\" class=\"dataframe\">\n",
       "  <thead>\n",
       "    <tr style=\"text-align: right;\">\n",
       "      <th></th>\n",
       "      <th>text</th>\n",
       "      <th>target</th>\n",
       "    </tr>\n",
       "  </thead>\n",
       "  <tbody>\n",
       "    <tr>\n",
       "      <th>0</th>\n",
       "      <td>Да, все-таки он немного похож на него. Но мой мальчик все равно лучше:D</td>\n",
       "      <td>1</td>\n",
       "    </tr>\n",
       "    <tr>\n",
       "      <th>1</th>\n",
       "      <td>RT @KatiaCheh: Ну ты идиотка) я испугалась за тебя!!!</td>\n",
       "      <td>1</td>\n",
       "    </tr>\n",
       "    <tr>\n",
       "      <th>2</th>\n",
       "      <td>RT @digger2912: \"Кто то в углу сидит и погибает от голода, а мы ещё 2 порции взяли, хотя уже и так жрать не хотим\" :DD http://t.co/GqG6iuE2…</td>\n",
       "      <td>1</td>\n",
       "    </tr>\n",
       "    <tr>\n",
       "      <th>3</th>\n",
       "      <td>@irina_dyshkant Вот что значит страшилка :D\\nНо блин,посмотрев все части,у тебя создастся ощущение,что авторы курили что-то :D</td>\n",
       "      <td>1</td>\n",
       "    </tr>\n",
       "    <tr>\n",
       "      <th>4</th>\n",
       "      <td>ну любишь или нет? — Я не знаю кто ты бля:D http://t.co/brf9eNg1U6</td>\n",
       "      <td>1</td>\n",
       "    </tr>\n",
       "  </tbody>\n",
       "</table>\n",
       "</div>"
      ],
      "text/plain": [
       "                                                                                                                                           text  \\\n",
       "0                                                                       Да, все-таки он немного похож на него. Но мой мальчик все равно лучше:D   \n",
       "1                                                                                         RT @KatiaCheh: Ну ты идиотка) я испугалась за тебя!!!   \n",
       "2  RT @digger2912: \"Кто то в углу сидит и погибает от голода, а мы ещё 2 порции взяли, хотя уже и так жрать не хотим\" :DD http://t.co/GqG6iuE2…   \n",
       "3                @irina_dyshkant Вот что значит страшилка :D\\nНо блин,посмотрев все части,у тебя создастся ощущение,что авторы курили что-то :D   \n",
       "4                                                                            ну любишь или нет? — Я не знаю кто ты бля:D http://t.co/brf9eNg1U6   \n",
       "\n",
       "   target  \n",
       "0       1  \n",
       "1       1  \n",
       "2       1  \n",
       "3       1  \n",
       "4       1  "
      ]
     },
     "execution_count": 3,
     "metadata": {},
     "output_type": "execute_result"
    }
   ],
   "source": [
    "df.head()"
   ]
  },
  {
   "cell_type": "code",
   "execution_count": 4,
   "metadata": {},
   "outputs": [
    {
     "name": "stdout",
     "output_type": "stream",
     "text": [
      "<class 'pandas.core.frame.DataFrame'>\n",
      "RangeIndex: 430517 entries, 0 to 430516\n",
      "Data columns (total 2 columns):\n",
      " #   Column  Non-Null Count   Dtype \n",
      "---  ------  --------------   ----- \n",
      " 0   text    430517 non-null  object\n",
      " 1   target  430517 non-null  int64 \n",
      "dtypes: int64(1), object(1)\n",
      "memory usage: 6.6+ MB\n"
     ]
    }
   ],
   "source": [
    "df.info()"
   ]
  },
  {
   "cell_type": "code",
   "execution_count": 5,
   "metadata": {},
   "outputs": [
    {
     "data": {
      "text/plain": [
       "<Axes: ylabel='target'>"
      ]
     },
     "execution_count": 5,
     "metadata": {},
     "output_type": "execute_result"
    },
    {
     "data": {
      "image/png": "[encoded data removed]",
      "text/plain": [
       "<Figure size 640x480 with 1 Axes>"
      ]
     },
     "metadata": {},
     "output_type": "display_data"
    }
   ],
   "source": [
    "df['target'].value_counts().plot.barh()"
   ]
  },
  {
   "cell_type": "markdown",
   "metadata": {},
   "source": [
    "В датасете сохранены комментарии с негативной и позитивной окраской примерно по 110 тысяч и в 2 раза больше нейтральных комментариев.\n",
    "\n",
    "Датасет собран из двух: \n",
    "+ https://www.kaggle.com/datasets/alexandersemiletov/toxic-russian-comments\n",
    "+ https://www.kaggle.com/datasets/thorinhood/russian-twitter-sentiment"
   ]
  },
  {
   "cell_type": "markdown",
   "metadata": {},
   "source": [
    "### Преобработка"
   ]
  },
  {
   "cell_type": "markdown",
   "metadata": {},
   "source": [
    "+ приводим к нижнему регистру"
   ]
  },
  {
   "cell_type": "code",
   "execution_count": 6,
   "metadata": {},
   "outputs": [],
   "source": [
    "df['prepared_text'] = df['text'].str.lower()"
   ]
  },
  {
   "cell_type": "markdown",
   "metadata": {},
   "source": [
    "+ убираем слово RT"
   ]
  },
  {
   "cell_type": "code",
   "execution_count": 7,
   "metadata": {},
   "outputs": [],
   "source": [
    "df['prepared_text'] = df['prepared_text'].apply(lambda x: x.replace('rt ',''))"
   ]
  },
  {
   "cell_type": "markdown",
   "metadata": {},
   "source": [
    "+ слова с @"
   ]
  },
  {
   "cell_type": "code",
   "execution_count": 8,
   "metadata": {},
   "outputs": [],
   "source": [
    "df['prepared_text'] = df['prepared_text'].apply(lambda x: ' '.join([word for word in x.split() if not word.startswith('@')]))"
   ]
  },
  {
   "cell_type": "markdown",
   "metadata": {},
   "source": [
    "Выбираем из текста только смайлики :) :( ;) :0"
   ]
  },
  {
   "cell_type": "code",
   "execution_count": 9,
   "metadata": {},
   "outputs": [],
   "source": [
    "def smiles_text(text):\n",
    "    valid_parts = re.findall(r'(:\\)|:\\(|:d|:0|xd|;\\))', text)\n",
    "    cleaned_text = ' '.join(valid_parts).strip()\n",
    "    return cleaned_text"
   ]
  },
  {
   "cell_type": "markdown",
   "metadata": {},
   "source": [
    "Выбираем только русские буквы и убираем лишние пробелы"
   ]
  },
  {
   "cell_type": "code",
   "execution_count": 10,
   "metadata": {},
   "outputs": [],
   "source": [
    "def russian_text(text):\n",
    "    cleaned_text = re.sub(r'[^а-яё ]', ' ', text)\n",
    "    cleaned_text = re.sub(r'\\s+', ' ', cleaned_text).strip()\n",
    "    return cleaned_text"
   ]
  },
  {
   "cell_type": "markdown",
   "metadata": {},
   "source": [
    "Выбираем только скобочки ) )) ))) )))) ( (( ((( (((("
   ]
  },
  {
   "cell_type": "code",
   "execution_count": 11,
   "metadata": {},
   "outputs": [],
   "source": [
    "def keep_parentheses(text):\n",
    "    matches = re.findall(r'\\s*\\(\\s*|\\s*\\)\\s*', text)\n",
    "    cleaned_text = ' '.join(matches).strip()\n",
    "    cleaned_text = re.sub(r'\\s+', ' ', cleaned_text).strip()\n",
    "    return cleaned_text"
   ]
  },
  {
   "cell_type": "markdown",
   "metadata": {},
   "source": [
    "Отделяем скобочки от слов \"привет))\" -> \"привет ) )\""
   ]
  },
  {
   "cell_type": "code",
   "execution_count": 12,
   "metadata": {},
   "outputs": [],
   "source": [
    "def modify_text(text):\n",
    "    text = re.sub(r'\\)+', lambda m: ' ' + ')' * len(m.group(0)), text)\n",
    "    text = re.sub(r'\\(+', lambda m: ' ' + '(' * len(m.group(0)), text)\n",
    "    return text"
   ]
  },
  {
   "cell_type": "markdown",
   "metadata": {},
   "source": [
    "Применяем все выше перечисленное к датасету и соединяем вместе"
   ]
  },
  {
   "cell_type": "code",
   "execution_count": 13,
   "metadata": {},
   "outputs": [],
   "source": [
    "df['separate'] = df['prepared_text'].apply(modify_text)\n",
    "df['smiles'] = df['prepared_text'].apply(smiles_text)\n",
    "df['russian'] = df['prepared_text'].apply(russian_text)\n",
    "df['scobs'] = df['separate'].apply(keep_parentheses)\n",
    "df['prepared_text'] = df['russian']+' '+df['smiles']+' '+df['scobs'] \n",
    "\n",
    "df = df.drop(['separate','russian','smiles','scobs'],axis=1)"
   ]
  },
  {
   "cell_type": "markdown",
   "metadata": {},
   "source": [
    "Преобразуем смайлики из нижнего регистра в высокий"
   ]
  },
  {
   "cell_type": "code",
   "execution_count": 14,
   "metadata": {},
   "outputs": [],
   "source": [
    "df['prepared_text']=df['prepared_text'].str.replace(':d',':D')\n",
    "df['prepared_text']=df['prepared_text'].str.replace('xd','XD')"
   ]
  },
  {
   "cell_type": "code",
   "execution_count": 15,
   "metadata": {},
   "outputs": [
    {
     "data": {
      "text/html": [
       "<div>\n",
       "<style scoped>\n",
       "    .dataframe tbody tr th:only-of-type {\n",
       "        vertical-align: middle;\n",
       "    }\n",
       "\n",
       "    .dataframe tbody tr th {\n",
       "        vertical-align: top;\n",
       "    }\n",
       "\n",
       "    .dataframe thead th {\n",
       "        text-align: right;\n",
       "    }\n",
       "</style>\n",
       "<table border=\"1\" class=\"dataframe\">\n",
       "  <thead>\n",
       "    <tr style=\"text-align: right;\">\n",
       "      <th></th>\n",
       "      <th>text</th>\n",
       "      <th>target</th>\n",
       "      <th>prepared_text</th>\n",
       "    </tr>\n",
       "  </thead>\n",
       "  <tbody>\n",
       "    <tr>\n",
       "      <th>0</th>\n",
       "      <td>Да, все-таки он немного похож на него. Но мой мальчик все равно лучше:D</td>\n",
       "      <td>1</td>\n",
       "      <td>да все таки он немного похож на него но мой мальчик все равно лучше :D</td>\n",
       "    </tr>\n",
       "    <tr>\n",
       "      <th>1</th>\n",
       "      <td>RT @KatiaCheh: Ну ты идиотка) я испугалась за тебя!!!</td>\n",
       "      <td>1</td>\n",
       "      <td>ну ты идиотка я испугалась за тебя  )</td>\n",
       "    </tr>\n",
       "    <tr>\n",
       "      <th>2</th>\n",
       "      <td>RT @digger2912: \"Кто то в углу сидит и погибает от голода, а мы ещё 2 порции взяли, хотя уже и так жрать не хотим\" :DD http://t.co/GqG6iuE2…</td>\n",
       "      <td>1</td>\n",
       "      <td>кто то в углу сидит и погибает от голода а мы ещё порции взяли хотя уже и так жрать не хотим :D</td>\n",
       "    </tr>\n",
       "    <tr>\n",
       "      <th>3</th>\n",
       "      <td>@irina_dyshkant Вот что значит страшилка :D\\nНо блин,посмотрев все части,у тебя создастся ощущение,что авторы курили что-то :D</td>\n",
       "      <td>1</td>\n",
       "      <td>вот что значит страшилка но блин посмотрев все части у тебя создастся ощущение что авторы курили что то :D :D</td>\n",
       "    </tr>\n",
       "    <tr>\n",
       "      <th>4</th>\n",
       "      <td>ну любишь или нет? — Я не знаю кто ты бля:D http://t.co/brf9eNg1U6</td>\n",
       "      <td>1</td>\n",
       "      <td>ну любишь или нет я не знаю кто ты бля :D</td>\n",
       "    </tr>\n",
       "  </tbody>\n",
       "</table>\n",
       "</div>"
      ],
      "text/plain": [
       "                                                                                                                                           text  \\\n",
       "0                                                                       Да, все-таки он немного похож на него. Но мой мальчик все равно лучше:D   \n",
       "1                                                                                         RT @KatiaCheh: Ну ты идиотка) я испугалась за тебя!!!   \n",
       "2  RT @digger2912: \"Кто то в углу сидит и погибает от голода, а мы ещё 2 порции взяли, хотя уже и так жрать не хотим\" :DD http://t.co/GqG6iuE2…   \n",
       "3                @irina_dyshkant Вот что значит страшилка :D\\nНо блин,посмотрев все части,у тебя создастся ощущение,что авторы курили что-то :D   \n",
       "4                                                                            ну любишь или нет? — Я не знаю кто ты бля:D http://t.co/brf9eNg1U6   \n",
       "\n",
       "   target  \\\n",
       "0       1   \n",
       "1       1   \n",
       "2       1   \n",
       "3       1   \n",
       "4       1   \n",
       "\n",
       "                                                                                                    prepared_text  \n",
       "0                                         да все таки он немного похож на него но мой мальчик все равно лучше :D   \n",
       "1                                                                           ну ты идиотка я испугалась за тебя  )  \n",
       "2                кто то в углу сидит и погибает от голода а мы ещё порции взяли хотя уже и так жрать не хотим :D   \n",
       "3  вот что значит страшилка но блин посмотрев все части у тебя создастся ощущение что авторы курили что то :D :D   \n",
       "4                                                                      ну любишь или нет я не знаю кто ты бля :D   "
      ]
     },
     "execution_count": 15,
     "metadata": {},
     "output_type": "execute_result"
    }
   ],
   "source": [
    "df.head()"
   ]
  },
  {
   "cell_type": "markdown",
   "metadata": {},
   "source": [
    "### Подготовка к обучению"
   ]
  },
  {
   "cell_type": "markdown",
   "metadata": {},
   "source": [
    "удаление дубликатов"
   ]
  },
  {
   "cell_type": "code",
   "execution_count": 16,
   "metadata": {},
   "outputs": [
    {
     "name": "stdout",
     "output_type": "stream",
     "text": [
      "9397\n"
     ]
    }
   ],
   "source": [
    "print(df.duplicated().sum())\n",
    "df.drop_duplicates(inplace=True)"
   ]
  },
  {
   "cell_type": "markdown",
   "metadata": {},
   "source": [
    "Функция для лемматизации"
   ]
  },
  {
   "cell_type": "code",
   "execution_count": 17,
   "metadata": {},
   "outputs": [],
   "source": [
    "results = []\n",
    "\n",
    "def preprocess_text(text):\n",
    "    doc = nlp(text)\n",
    "    lemma_tokens = [token.lemma_ for token in doc]\n",
    "    return \" \".join(lemma_tokens)"
   ]
  },
  {
   "cell_type": "markdown",
   "metadata": {},
   "source": [
    "Применение лемматизации"
   ]
  },
  {
   "cell_type": "code",
   "execution_count": 18,
   "metadata": {},
   "outputs": [
    {
     "name": "stderr",
     "output_type": "stream",
     "text": [
      "Processing texts: 100%|██████████| 421120/421120 [1:22:46<00:00, 84.80it/s] \n"
     ]
    }
   ],
   "source": [
    "for text in tqdm(df['prepared_text'], desc=\"Processing texts\"):\n",
    "    result = preprocess_text(text)\n",
    "    results.append(result)"
   ]
  },
  {
   "cell_type": "code",
   "execution_count": 19,
   "metadata": {},
   "outputs": [],
   "source": [
    "df['prepared_text_lemm'] = results"
   ]
  },
  {
   "cell_type": "markdown",
   "metadata": {},
   "source": [
    "Удаление стоп-слов"
   ]
  },
  {
   "cell_type": "code",
   "execution_count": 20,
   "metadata": {},
   "outputs": [],
   "source": [
    "stop = stopwords.words('russian')\n",
    "df[\"prepared_text_lemm_nostop\"] = df['prepared_text_lemm'].apply(lambda x: ' '.join([word for word in x.split() if word not in (stop)]))"
   ]
  },
  {
   "cell_type": "code",
   "execution_count": 21,
   "metadata": {},
   "outputs": [
    {
     "data": {
      "text/html": [
       "<div>\n",
       "<style scoped>\n",
       "    .dataframe tbody tr th:only-of-type {\n",
       "        vertical-align: middle;\n",
       "    }\n",
       "\n",
       "    .dataframe tbody tr th {\n",
       "        vertical-align: top;\n",
       "    }\n",
       "\n",
       "    .dataframe thead th {\n",
       "        text-align: right;\n",
       "    }\n",
       "</style>\n",
       "<table border=\"1\" class=\"dataframe\">\n",
       "  <thead>\n",
       "    <tr style=\"text-align: right;\">\n",
       "      <th></th>\n",
       "      <th>text</th>\n",
       "      <th>target</th>\n",
       "      <th>prepared_text</th>\n",
       "      <th>prepared_text_lemm</th>\n",
       "      <th>prepared_text_lemm_nostop</th>\n",
       "    </tr>\n",
       "  </thead>\n",
       "  <tbody>\n",
       "    <tr>\n",
       "      <th>0</th>\n",
       "      <td>Да, все-таки он немного похож на него. Но мой мальчик все равно лучше:D</td>\n",
       "      <td>1</td>\n",
       "      <td>да все таки он немного похож на него но мой мальчик все равно лучше :D</td>\n",
       "      <td>да все таки он немного похожий на него но мой мальчик все равный хороший :d</td>\n",
       "      <td>таки немного похожий мальчик равный хороший :d</td>\n",
       "    </tr>\n",
       "    <tr>\n",
       "      <th>1</th>\n",
       "      <td>RT @KatiaCheh: Ну ты идиотка) я испугалась за тебя!!!</td>\n",
       "      <td>1</td>\n",
       "      <td>ну ты идиотка я испугалась за тебя  )</td>\n",
       "      <td>ну ты идиотка я испугаться за тебя   )</td>\n",
       "      <td>идиотка испугаться )</td>\n",
       "    </tr>\n",
       "    <tr>\n",
       "      <th>2</th>\n",
       "      <td>RT @digger2912: \"Кто то в углу сидит и погибает от голода, а мы ещё 2 порции взяли, хотя уже и так жрать не хотим\" :DD http://t.co/GqG6iuE2…</td>\n",
       "      <td>1</td>\n",
       "      <td>кто то в углу сидит и погибает от голода а мы ещё порции взяли хотя уже и так жрать не хотим :D</td>\n",
       "      <td>кто то в угол сидеть и погибать от голод а мы ещё порция взять хотя уже и так жрать не хотеть :d</td>\n",
       "      <td>угол сидеть погибать голод ещё порция взять хотя жрать хотеть :d</td>\n",
       "    </tr>\n",
       "    <tr>\n",
       "      <th>3</th>\n",
       "      <td>@irina_dyshkant Вот что значит страшилка :D\\nНо блин,посмотрев все части,у тебя создастся ощущение,что авторы курили что-то :D</td>\n",
       "      <td>1</td>\n",
       "      <td>вот что значит страшилка но блин посмотрев все части у тебя создастся ощущение что авторы курили что то :D :D</td>\n",
       "      <td>вот что значить страшилка но блин посмотреть весь часть у тебя создаться ощущение что автор курить что то :d :d</td>\n",
       "      <td>значить страшилка блин посмотреть весь часть создаться ощущение автор курить :d :d</td>\n",
       "    </tr>\n",
       "    <tr>\n",
       "      <th>4</th>\n",
       "      <td>ну любишь или нет? — Я не знаю кто ты бля:D http://t.co/brf9eNg1U6</td>\n",
       "      <td>1</td>\n",
       "      <td>ну любишь или нет я не знаю кто ты бля :D</td>\n",
       "      <td>ну любить или нет я не знать кто ты бля :d</td>\n",
       "      <td>любить знать бля :d</td>\n",
       "    </tr>\n",
       "  </tbody>\n",
       "</table>\n",
       "</div>"
      ],
      "text/plain": [
       "                                                                                                                                           text  \\\n",
       "0                                                                       Да, все-таки он немного похож на него. Но мой мальчик все равно лучше:D   \n",
       "1                                                                                         RT @KatiaCheh: Ну ты идиотка) я испугалась за тебя!!!   \n",
       "2  RT @digger2912: \"Кто то в углу сидит и погибает от голода, а мы ещё 2 порции взяли, хотя уже и так жрать не хотим\" :DD http://t.co/GqG6iuE2…   \n",
       "3                @irina_dyshkant Вот что значит страшилка :D\\nНо блин,посмотрев все части,у тебя создастся ощущение,что авторы курили что-то :D   \n",
       "4                                                                            ну любишь или нет? — Я не знаю кто ты бля:D http://t.co/brf9eNg1U6   \n",
       "\n",
       "   target  \\\n",
       "0       1   \n",
       "1       1   \n",
       "2       1   \n",
       "3       1   \n",
       "4       1   \n",
       "\n",
       "                                                                                                    prepared_text  \\\n",
       "0                                         да все таки он немного похож на него но мой мальчик все равно лучше :D    \n",
       "1                                                                           ну ты идиотка я испугалась за тебя  )   \n",
       "2                кто то в углу сидит и погибает от голода а мы ещё порции взяли хотя уже и так жрать не хотим :D    \n",
       "3  вот что значит страшилка но блин посмотрев все части у тебя создастся ощущение что авторы курили что то :D :D    \n",
       "4                                                                      ну любишь или нет я не знаю кто ты бля :D    \n",
       "\n",
       "                                                                                                prepared_text_lemm  \\\n",
       "0                                      да все таки он немного похожий на него но мой мальчик все равный хороший :d   \n",
       "1                                                                           ну ты идиотка я испугаться за тебя   )   \n",
       "2                 кто то в угол сидеть и погибать от голод а мы ещё порция взять хотя уже и так жрать не хотеть :d   \n",
       "3  вот что значить страшилка но блин посмотреть весь часть у тебя создаться ощущение что автор курить что то :d :d   \n",
       "4                                                                       ну любить или нет я не знать кто ты бля :d   \n",
       "\n",
       "                                                            prepared_text_lemm_nostop  \n",
       "0                                      таки немного похожий мальчик равный хороший :d  \n",
       "1                                                                идиотка испугаться )  \n",
       "2                    угол сидеть погибать голод ещё порция взять хотя жрать хотеть :d  \n",
       "3  значить страшилка блин посмотреть весь часть создаться ощущение автор курить :d :d  \n",
       "4                                                                 любить знать бля :d  "
      ]
     },
     "execution_count": 21,
     "metadata": {},
     "output_type": "execute_result"
    }
   ],
   "source": [
    "df.head()"
   ]
  },
  {
   "cell_type": "code",
   "execution_count": 22,
   "metadata": {},
   "outputs": [],
   "source": [
    "df.to_csv(r'D:\\Python_Projects\\hakaton\\dataset\\emotional_dataset_full.csv')"
   ]
  }
 ],
 "metadata": {
  "kernelspec": {
   "display_name": "Python 3",
   "language": "python",
   "name": "python3"
  },
  "language_info": {
   "codemirror_mode": {
    "name": "ipython",
    "version": 3
   },
   "file_extension": ".py",
   "mimetype": "text/x-python",
   "name": "python",
   "nbconvert_exporter": "python",
   "pygments_lexer": "ipython3",
   "version": "3.11.3"
  }
 },
 "nbformat": 4,
 "nbformat_minor": 2
}
