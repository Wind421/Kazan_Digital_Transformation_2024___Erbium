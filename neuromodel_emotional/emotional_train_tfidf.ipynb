{
 "cells": [
  {
   "cell_type": "code",
   "execution_count": 1,
   "metadata": {},
   "outputs": [],
   "source": [
    "from tqdm.notebook import tqdm\n",
    "\n",
    "import pandas as pd \n",
    "import numpy as np\n",
    "import matplotlib.pyplot as plt\n",
    "\n",
    "from sklearn.model_selection import train_test_split\n",
    "\n",
    "from sklearn.feature_extraction.text import TfidfVectorizer\n",
    "\n",
    "pd.set_option('display.max_colwidth', None)\n",
    "from sklearn.metrics import f1_score,make_scorer"
   ]
  },
  {
   "cell_type": "code",
   "execution_count": 2,
   "metadata": {},
   "outputs": [],
   "source": [
    "from sklearn.linear_model import LogisticRegression\n",
    "from sklearn.neighbors import KNeighborsClassifier\n",
    "from sklearn.naive_bayes import GaussianNB\n",
    "from sklearn.discriminant_analysis import LinearDiscriminantAnalysis\n",
    "from sklearn.neural_network import MLPClassifier\n",
    "\n",
    "import catboost as cb\n",
    "from sklearn.decomposition import PCA,TruncatedSVD"
   ]
  },
  {
   "cell_type": "code",
   "execution_count": 2,
   "metadata": {},
   "outputs": [
    {
     "data": {
      "text/html": [
       "<div>\n",
       "<style scoped>\n",
       "    .dataframe tbody tr th:only-of-type {\n",
       "        vertical-align: middle;\n",
       "    }\n",
       "\n",
       "    .dataframe tbody tr th {\n",
       "        vertical-align: top;\n",
       "    }\n",
       "\n",
       "    .dataframe thead th {\n",
       "        text-align: right;\n",
       "    }\n",
       "</style>\n",
       "<table border=\"1\" class=\"dataframe\">\n",
       "  <thead>\n",
       "    <tr style=\"text-align: right;\">\n",
       "      <th></th>\n",
       "      <th>Unnamed: 0</th>\n",
       "      <th>text</th>\n",
       "      <th>target</th>\n",
       "      <th>prepared_text</th>\n",
       "      <th>prepared_text_lemm</th>\n",
       "      <th>prepared_text_lemm_nostop</th>\n",
       "    </tr>\n",
       "  </thead>\n",
       "  <tbody>\n",
       "    <tr>\n",
       "      <th>0</th>\n",
       "      <td>0</td>\n",
       "      <td>Да, все-таки он немного похож на него. Но мой мальчик все равно лучше:D</td>\n",
       "      <td>1</td>\n",
       "      <td>да все таки он немного похож на него но мой мальчик все равно лучше :D</td>\n",
       "      <td>да все таки он немного похожий на него но мой мальчик все равный хороший :d</td>\n",
       "      <td>таки немного похожий мальчик равный хороший :d</td>\n",
       "    </tr>\n",
       "    <tr>\n",
       "      <th>1</th>\n",
       "      <td>1</td>\n",
       "      <td>RT @KatiaCheh: Ну ты идиотка) я испугалась за тебя!!!</td>\n",
       "      <td>1</td>\n",
       "      <td>ну ты идиотка я испугалась за тебя  )</td>\n",
       "      <td>ну ты идиотка я испугаться за тебя   )</td>\n",
       "      <td>идиотка испугаться )</td>\n",
       "    </tr>\n",
       "    <tr>\n",
       "      <th>2</th>\n",
       "      <td>2</td>\n",
       "      <td>RT @digger2912: \"Кто то в углу сидит и погибает от голода, а мы ещё 2 порции взяли, хотя уже и так жрать не хотим\" :DD http://t.co/GqG6iuE2…</td>\n",
       "      <td>1</td>\n",
       "      <td>кто то в углу сидит и погибает от голода а мы ещё порции взяли хотя уже и так жрать не хотим :D</td>\n",
       "      <td>кто то в угол сидеть и погибать от голод а мы ещё порция взять хотя уже и так жрать не хотеть :d</td>\n",
       "      <td>угол сидеть погибать голод ещё порция взять хотя жрать хотеть :d</td>\n",
       "    </tr>\n",
       "    <tr>\n",
       "      <th>3</th>\n",
       "      <td>3</td>\n",
       "      <td>@irina_dyshkant Вот что значит страшилка :D\\nНо блин,посмотрев все части,у тебя создастся ощущение,что авторы курили что-то :D</td>\n",
       "      <td>1</td>\n",
       "      <td>вот что значит страшилка но блин посмотрев все части у тебя создастся ощущение что авторы курили что то :D :D</td>\n",
       "      <td>вот что значить страшилка но блин посмотреть весь часть у тебя создаться ощущение что автор курить что то :d :d</td>\n",
       "      <td>значить страшилка блин посмотреть весь часть создаться ощущение автор курить :d :d</td>\n",
       "    </tr>\n",
       "    <tr>\n",
       "      <th>4</th>\n",
       "      <td>4</td>\n",
       "      <td>ну любишь или нет? — Я не знаю кто ты бля:D http://t.co/brf9eNg1U6</td>\n",
       "      <td>1</td>\n",
       "      <td>ну любишь или нет я не знаю кто ты бля :D</td>\n",
       "      <td>ну любить или нет я не знать кто ты бля :d</td>\n",
       "      <td>любить знать бля :d</td>\n",
       "    </tr>\n",
       "  </tbody>\n",
       "</table>\n",
       "</div>"
      ],
      "text/plain": [
       "   Unnamed: 0  \\\n",
       "0           0   \n",
       "1           1   \n",
       "2           2   \n",
       "3           3   \n",
       "4           4   \n",
       "\n",
       "                                                                                                                                           text  \\\n",
       "0                                                                       Да, все-таки он немного похож на него. Но мой мальчик все равно лучше:D   \n",
       "1                                                                                         RT @KatiaCheh: Ну ты идиотка) я испугалась за тебя!!!   \n",
       "2  RT @digger2912: \"Кто то в углу сидит и погибает от голода, а мы ещё 2 порции взяли, хотя уже и так жрать не хотим\" :DD http://t.co/GqG6iuE2…   \n",
       "3                @irina_dyshkant Вот что значит страшилка :D\\nНо блин,посмотрев все части,у тебя создастся ощущение,что авторы курили что-то :D   \n",
       "4                                                                            ну любишь или нет? — Я не знаю кто ты бля:D http://t.co/brf9eNg1U6   \n",
       "\n",
       "   target  \\\n",
       "0       1   \n",
       "1       1   \n",
       "2       1   \n",
       "3       1   \n",
       "4       1   \n",
       "\n",
       "                                                                                                    prepared_text  \\\n",
       "0                                         да все таки он немного похож на него но мой мальчик все равно лучше :D    \n",
       "1                                                                           ну ты идиотка я испугалась за тебя  )   \n",
       "2                кто то в углу сидит и погибает от голода а мы ещё порции взяли хотя уже и так жрать не хотим :D    \n",
       "3  вот что значит страшилка но блин посмотрев все части у тебя создастся ощущение что авторы курили что то :D :D    \n",
       "4                                                                      ну любишь или нет я не знаю кто ты бля :D    \n",
       "\n",
       "                                                                                                prepared_text_lemm  \\\n",
       "0                                      да все таки он немного похожий на него но мой мальчик все равный хороший :d   \n",
       "1                                                                           ну ты идиотка я испугаться за тебя   )   \n",
       "2                 кто то в угол сидеть и погибать от голод а мы ещё порция взять хотя уже и так жрать не хотеть :d   \n",
       "3  вот что значить страшилка но блин посмотреть весь часть у тебя создаться ощущение что автор курить что то :d :d   \n",
       "4                                                                       ну любить или нет я не знать кто ты бля :d   \n",
       "\n",
       "                                                            prepared_text_lemm_nostop  \n",
       "0                                      таки немного похожий мальчик равный хороший :d  \n",
       "1                                                                идиотка испугаться )  \n",
       "2                    угол сидеть погибать голод ещё порция взять хотя жрать хотеть :d  \n",
       "3  значить страшилка блин посмотреть весь часть создаться ощущение автор курить :d :d  \n",
       "4                                                                 любить знать бля :d  "
      ]
     },
     "execution_count": 2,
     "metadata": {},
     "output_type": "execute_result"
    }
   ],
   "source": [
    "df=pd.read_csv(r'D:\\Python_Projects\\hakaton\\dataset\\emotional_dataset_full.csv')\n",
    "df.head()"
   ]
  },
  {
   "cell_type": "code",
   "execution_count": 3,
   "metadata": {},
   "outputs": [],
   "source": [
    "df.dropna(inplace=True)"
   ]
  },
  {
   "cell_type": "code",
   "execution_count": 4,
   "metadata": {},
   "outputs": [
    {
     "name": "stdout",
     "output_type": "stream",
     "text": [
      "<class 'pandas.core.frame.DataFrame'>\n",
      "Index: 420271 entries, 0 to 421119\n",
      "Data columns (total 6 columns):\n",
      " #   Column                     Non-Null Count   Dtype \n",
      "---  ------                     --------------   ----- \n",
      " 0   Unnamed: 0                 420271 non-null  int64 \n",
      " 1   text                       420271 non-null  object\n",
      " 2   target                     420271 non-null  int64 \n",
      " 3   prepared_text              420271 non-null  object\n",
      " 4   prepared_text_lemm         420271 non-null  object\n",
      " 5   prepared_text_lemm_nostop  420271 non-null  object\n",
      "dtypes: int64(2), object(4)\n",
      "memory usage: 22.4+ MB\n"
     ]
    }
   ],
   "source": [
    "df.info()"
   ]
  },
  {
   "cell_type": "markdown",
   "metadata": {},
   "source": [
    "### Подготовка данных к модели. Создание тренировочной и тестовой выборок."
   ]
  },
  {
   "cell_type": "code",
   "execution_count": 6,
   "metadata": {},
   "outputs": [
    {
     "name": "stderr",
     "output_type": "stream",
     "text": [
      "C:\\Users\\Dasha\\AppData\\Local\\Temp\\ipykernel_13784\\2447628208.py:2: DeprecationWarning: DataFrameGroupBy.apply operated on the grouping columns. This behavior is deprecated, and in a future version of pandas the grouping columns will be excluded from the operation. Either pass `include_groups=False` to exclude the groupings or explicitly select the grouping columns after groupby to silence this warning.\n",
      "  reduced_df = df.groupby('target').apply(lambda x: x.sample(n=50000)).reset_index(drop=True)\n"
     ]
    }
   ],
   "source": [
    "def reduce_rows(df):\n",
    "    reduced_df = df.groupby('target').apply(lambda x: x.sample(n=50000)).reset_index(drop=True)\n",
    "    return reduced_df\n",
    "\n",
    "reduced_df = reduce_rows(df)"
   ]
  },
  {
   "cell_type": "code",
   "execution_count": 7,
   "metadata": {},
   "outputs": [
    {
     "data": {
      "text/plain": [
       "target\n",
       "-1    50000\n",
       " 0    50000\n",
       " 1    50000\n",
       "Name: count, dtype: int64"
      ]
     },
     "execution_count": 7,
     "metadata": {},
     "output_type": "execute_result"
    }
   ],
   "source": [
    "reduced_df['target'].value_counts()"
   ]
  },
  {
   "cell_type": "code",
   "execution_count": 8,
   "metadata": {},
   "outputs": [],
   "source": [
    "X = reduced_df['prepared_text_lemm_nostop']\n",
    "y = reduced_df['target']"
   ]
  },
  {
   "cell_type": "code",
   "execution_count": 9,
   "metadata": {},
   "outputs": [],
   "source": [
    "RANDOM_STATE = 42\n",
    "X_train, X_test, y_train, y_test = train_test_split(\n",
    "    X, y, test_size=0.2,stratify=y, random_state=RANDOM_STATE)"
   ]
  },
  {
   "cell_type": "markdown",
   "metadata": {},
   "source": [
    "### Векторизация и создание корпуса с помощью Tf-IDF и SVD"
   ]
  },
  {
   "cell_type": "code",
   "execution_count": 10,
   "metadata": {},
   "outputs": [],
   "source": [
    "tf_idf = TfidfVectorizer()\n",
    "X_train = tf_idf.fit_transform(X_train)\n",
    "X_test = tf_idf.transform(X_test)"
   ]
  },
  {
   "cell_type": "code",
   "execution_count": 11,
   "metadata": {},
   "outputs": [],
   "source": [
    "pca = TruncatedSVD(n_components=1000) \n",
    "X_train_pca = pca.fit_transform(X_train)\n",
    "X_test_pca = pca.transform(X_test)"
   ]
  },
  {
   "cell_type": "code",
   "execution_count": 15,
   "metadata": {},
   "outputs": [],
   "source": [
    "import pickle "
   ]
  },
  {
   "cell_type": "code",
   "execution_count": 16,
   "metadata": {},
   "outputs": [],
   "source": [
    "pkl_filename = \"emotion_TFIDF.pkl\" \n",
    "with open(pkl_filename, 'wb') as file: \n",
    "    pickle.dump(tf_idf, file)"
   ]
  },
  {
   "cell_type": "code",
   "execution_count": 17,
   "metadata": {},
   "outputs": [],
   "source": [
    "pkl_filename = \"emotion_SVD.pkl\" \n",
    "with open(pkl_filename, 'wb') as file: \n",
    "    pickle.dump(pca, file)"
   ]
  },
  {
   "cell_type": "markdown",
   "metadata": {},
   "source": [
    "### Обучение моделей"
   ]
  },
  {
   "cell_type": "markdown",
   "metadata": {},
   "source": [
    "**Логистическая регрессия**"
   ]
  },
  {
   "cell_type": "code",
   "execution_count": 14,
   "metadata": {},
   "outputs": [
    {
     "data": {
      "text/plain": [
       "' logreg = LogisticRegression(solver=\\'liblinear\\', max_iter=500,penalty=\\'l1\\',\\n                              random_state=RANDOM_STATE,C=1)\\nlogreg.fit(X_train, y_train)\\ny_pred=logreg.predict(X_test)\\nprint(\\'Значение метрики для Логистической Регрессии:\\', f1_score(y_pred,y_test, average=\\'macro\\'))\\n\\npkl_filename = \"logreg_emotion_TFIDF.pkl\" \\nwith open(pkl_filename, \\'wb\\') as file: \\n    pickle.dump(logreg, file)  '"
      ]
     },
     "execution_count": 14,
     "metadata": {},
     "output_type": "execute_result"
    }
   ],
   "source": [
    "logreg = LogisticRegression(solver='liblinear', max_iter=500,penalty='l1',\n",
    "                              random_state=RANDOM_STATE,C=1)\n",
    "logreg.fit(X_train, y_train)\n",
    "y_pred=logreg.predict(X_test)\n",
    "print('Значение метрики для Логистической Регрессии:', f1_score(y_pred,y_test, average='macro'))\n",
    "\n",
    "pkl_filename = \"logreg_emotion_TFIDF.pkl\" \n",
    "with open(pkl_filename, 'wb') as file: \n",
    "    pickle.dump(logreg, file)"
   ]
  },
  {
   "cell_type": "markdown",
   "metadata": {},
   "source": [
    "**Метод ближайших соседей - KNN**"
   ]
  },
  {
   "cell_type": "code",
   "execution_count": 15,
   "metadata": {},
   "outputs": [
    {
     "data": {
      "text/plain": [
       "' knn = KNeighborsClassifier(algorithm=\\'auto\\',metric=\\'cosine\\',weights=\\'uniform\\',n_neighbors=5,n_jobs=-1)\\nknn.fit(X_train, y_train)\\ny_pred=knn.predict(X_test)\\nprint(\\'Значение метрики для Метода ближайших соседей:\\', f1_score(y_pred,y_test, average=\\'macro\\'))\\n\\npkl_filename = \"knn_emotion_TFIDF.pkl\" \\nwith open(pkl_filename, \\'wb\\') as file: \\n    pickle.dump(knn, file)  '"
      ]
     },
     "execution_count": 15,
     "metadata": {},
     "output_type": "execute_result"
    }
   ],
   "source": [
    "knn = KNeighborsClassifier(algorithm='auto',metric='cosine',weights='uniform',n_neighbors=5,n_jobs=-1)\n",
    "knn.fit(X_train, y_train)\n",
    "y_pred=knn.predict(X_test)\n",
    "print('Значение метрики для Метода ближайших соседей:', f1_score(y_pred,y_test, average='macro'))\n",
    "\n",
    "pkl_filename = \"knn_emotion_TFIDF.pkl\" \n",
    "with open(pkl_filename, 'wb') as file: \n",
    "    pickle.dump(knn, file)"
   ]
  },
  {
   "cell_type": "markdown",
   "metadata": {},
   "source": [
    "**Наивный Байес**"
   ]
  },
  {
   "cell_type": "code",
   "execution_count": 17,
   "metadata": {},
   "outputs": [
    {
     "data": {
      "text/plain": [
       "' gauss = GaussianNB()\\ngauss.fit(X_train_pca, y_train)\\n\\ny_pred=gauss.predict(X_test_pca)\\nprint(\\'Значение метрики для Наивного гаусса:\\', f1_score(y_pred,y_test, average=\\'macro\\')) \\n\\npkl_filename = \"gauss_emotion_TFIDF.pkl\" \\nwith open(pkl_filename, \\'wb\\') as file: \\n    pickle.dump(gauss, file) '"
      ]
     },
     "execution_count": 17,
     "metadata": {},
     "output_type": "execute_result"
    }
   ],
   "source": [
    "gauss = GaussianNB()\n",
    "gauss.fit(X_train_pca, y_train)\n",
    "\n",
    "y_pred=gauss.predict(X_test_pca)\n",
    "print('Значение метрики для Наивного Байеса:', f1_score(y_pred,y_test, average='macro')) \n",
    "\n",
    "pkl_filename = \"gauss_emotion_TFIDF.pkl\" \n",
    "with open(pkl_filename, 'wb') as file: \n",
    "    pickle.dump(gauss, file)"
   ]
  },
  {
   "cell_type": "markdown",
   "metadata": {},
   "source": [
    "**Линейный Дискриминантный Анализ**"
   ]
  },
  {
   "cell_type": "code",
   "execution_count": 18,
   "metadata": {},
   "outputs": [
    {
     "data": {
      "text/plain": [
       "' lda = LinearDiscriminantAnalysis()\\nlda.fit(X_train_pca, y_train)\\ny_pred=lda.predict(X_test_pca)\\nprint(\\'Значение метрики для LDA:\\', f1_score(y_pred,y_test, average=\\'macro\\'))  \\n\\n\\npkl_filename = \"lda_emotion_TFIDF.pkl\" \\nwith open(pkl_filename, \\'wb\\') as file: \\n    pickle.dump(lda, file) '"
      ]
     },
     "execution_count": 18,
     "metadata": {},
     "output_type": "execute_result"
    }
   ],
   "source": [
    "lda = LinearDiscriminantAnalysis()\n",
    "lda.fit(X_train_pca, y_train)\n",
    "y_pred=lda.predict(X_test_pca)\n",
    "print('Значение метрики для LDA:', f1_score(y_pred,y_test, average='macro'))  \n",
    "\n",
    "\n",
    "pkl_filename = \"lda_emotion_TFIDF.pkl\" \n",
    "with open(pkl_filename, 'wb') as file: \n",
    "    pickle.dump(lda, file)"
   ]
  },
  {
   "cell_type": "markdown",
   "metadata": {},
   "source": [
    "**Catboost**"
   ]
  },
  {
   "cell_type": "code",
   "execution_count": 19,
   "metadata": {},
   "outputs": [
    {
     "data": {
      "text/plain": [
       "' catb = cb.CatBoostClassifier(iterations=100, learning_rate=0.1, depth=10)\\ncatb.fit(X_train, y_train)\\n\\ny_pred=catb.predict(X_test)\\nprint(\\'Значение метрики для CatBoost:\\', f1_score(y_pred,y_test, average=\\'macro\\'))\\n\\npkl_filename = \"catb_emotion_TFIDF.pkl\" \\nwith open(pkl_filename, \\'wb\\') as file: \\n    pickle.dump(catb, file) '"
      ]
     },
     "execution_count": 19,
     "metadata": {},
     "output_type": "execute_result"
    }
   ],
   "source": [
    "catb = cb.CatBoostClassifier(iterations=100, learning_rate=0.1, depth=10)\n",
    "catb.fit(X_train, y_train)\n",
    "\n",
    "y_pred=catb.predict(X_test)\n",
    "print('Значение метрики для CatBoost:', f1_score(y_pred,y_test, average='macro'))\n",
    "\n",
    "pkl_filename = \"catb_emotion_TFIDF.pkl\" \n",
    "with open(pkl_filename, 'wb') as file: \n",
    "    pickle.dump(catb, file)"
   ]
  },
  {
   "cell_type": "markdown",
   "metadata": {},
   "source": [
    "**MLPClassifier**"
   ]
  },
  {
   "cell_type": "code",
   "execution_count": 20,
   "metadata": {},
   "outputs": [
    {
     "data": {
      "text/plain": [
       "' mlp = MLPClassifier(hidden_layer_sizes=(5, 5, 5,5,5), max_iter=100, solver=\\'sgd\\', activation=\\'relu\\')\\nmlp.fit(X_train, y_train)\\ny_pred=mlp.predict(X_test)\\nprint(\\'Значение метрики для MLP:\\', f1_score(y_pred,y_test, average=\\'macro\\'))\\n\\npkl_filename = \"mlp_emotion_TFIDF.pkl\" \\nwith open(pkl_filename, \\'wb\\') as file: \\n    pickle.dump(mlp, file) '"
      ]
     },
     "execution_count": 20,
     "metadata": {},
     "output_type": "execute_result"
    }
   ],
   "source": [
    "mlp = MLPClassifier(hidden_layer_sizes=(5, 5, 5,5,5), max_iter=100, solver='sgd', activation='relu')\n",
    "mlp.fit(X_train, y_train)\n",
    "y_pred=mlp.predict(X_test)\n",
    "print('Значение метрики для MLP:', f1_score(y_pred,y_test, average='macro'))\n",
    "\n",
    "pkl_filename = \"mlp_emotion_TFIDF.pkl\" \n",
    "with open(pkl_filename, 'wb') as file: \n",
    "    pickle.dump(mlp, file)"
   ]
  }
 ],
 "metadata": {
  "kernelspec": {
   "display_name": "Python 3",
   "language": "python",
   "name": "python3"
  },
  "language_info": {
   "codemirror_mode": {
    "name": "ipython",
    "version": 3
   },
   "file_extension": ".py",
   "mimetype": "text/x-python",
   "name": "python",
   "nbconvert_exporter": "python",
   "pygments_lexer": "ipython3",
   "version": "3.11.3"
  }
 },
 "nbformat": 4,
 "nbformat_minor": 2
}
