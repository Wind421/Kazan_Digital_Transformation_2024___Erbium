{
 "cells": [
  {
   "cell_type": "markdown",
   "id": "97111e65",
   "metadata": {},
   "source": [
    "## Задача кластеризации текстов."
   ]
  },
  {
   "cell_type": "markdown",
   "id": "2ae1b306",
   "metadata": {},
   "source": [
    "Импорт библиотек"
   ]
  },
  {
   "cell_type": "code",
   "execution_count": 1,
   "id": "fec71c26",
   "metadata": {},
   "outputs": [],
   "source": [
    "import warnings\n",
    "warnings.filterwarnings('ignore')\n",
    "\n",
    "from tqdm.notebook import tqdm\n",
    "\n",
    "import pandas as pd \n",
    "import numpy as np\n",
    "import matplotlib.pyplot as plt\n",
    "\n",
    "from sklearn.feature_extraction.text import TfidfVectorizer\n",
    "from sklearn.decomposition import LatentDirichletAllocation\n",
    "from sklearn.cluster import KMeans\n",
    "from sklearn.preprocessing import Normalizer\n",
    "\n",
    "pd.set_option('display.max_colwidth', None)"
   ]
  },
  {
   "cell_type": "markdown",
   "id": "ae6d425b",
   "metadata": {},
   "source": [
    "Загрузим подготовленные данные. В столбце processed_text все тексты уже лемматизированы и затем дополнительно обработаны"
   ]
  },
  {
   "cell_type": "code",
   "execution_count": 2,
   "id": "9e1d9e63",
   "metadata": {},
   "outputs": [],
   "source": [
    "df = pd.read_csv(r\"D:\\hackaton\\hackaton\\files\\df_final_100k_more_then_10_words.csv\") "
   ]
  },
  {
   "cell_type": "code",
   "execution_count": 3,
   "id": "b752f3e5",
   "metadata": {},
   "outputs": [
    {
     "data": {
      "text/html": [
       "<div>\n",
       "<style scoped>\n",
       "    .dataframe tbody tr th:only-of-type {\n",
       "        vertical-align: middle;\n",
       "    }\n",
       "\n",
       "    .dataframe tbody tr th {\n",
       "        vertical-align: top;\n",
       "    }\n",
       "\n",
       "    .dataframe thead th {\n",
       "        text-align: right;\n",
       "    }\n",
       "</style>\n",
       "<table border=\"1\" class=\"dataframe\">\n",
       "  <thead>\n",
       "    <tr style=\"text-align: right;\">\n",
       "      <th></th>\n",
       "      <th>public_url</th>\n",
       "      <th>post_url</th>\n",
       "      <th>post_text</th>\n",
       "      <th>cleaned_texts</th>\n",
       "      <th>processed_text</th>\n",
       "    </tr>\n",
       "  </thead>\n",
       "  <tbody>\n",
       "    <tr>\n",
       "      <th>74329</th>\n",
       "      <td>https://vk.com/chelnynews_ru</td>\n",
       "      <td>https://vk.com/wall-54537775_1272507</td>\n",
       "      <td>Челнинка выиграла чемпионат Европы по армспорту\\n\\nВ Болгарии завершились чемпионат и первенство Европы по армспорту. Среди девушек до 21 года в весовой категории до 55 кг чемпионкой стала спортсменка из Набережных Челнов, воспитанница ДЮСШ «Витязь» Миляуша Гимранова. Третье место в весовой категории до 55 кг занял еще один челнинец - Ирек Зиятдинов. \\n\\nВсего в соревнованиях приняли участие спортсмены из 30 стран.\\n\\nИсточник: chelny-izvest</td>\n",
       "      <td>челнинка выиграла чемпионат европы по армспорту  в болгарии завершились чемпионат и первенство европы по армспорту  среди девушек до    года в весовой категории до    кг чемпионкой стала спортсменка из набережных челнов  воспитанница дюсш  витязь  миляуша гимранова  третье место в весовой категории до    кг занял еще один челнинец   ирек зиятдинов    всего в соревнованиях приняли участие спортсмены из    стран   источник</td>\n",
       "      <td>челнинка выиграть чемпионат европа армспорту болгария завершиться чемпионат первенство европа армспорту девушка год весовой категория чемпионка спортсменка набережный чёлн воспитанница дюсш витязь миляуша гимранова третий место весовой категория занять челнинец ирек зиятдинов соревнование принять участие спортсмен страна источник</td>\n",
       "    </tr>\n",
       "  </tbody>\n",
       "</table>\n",
       "</div>"
      ],
      "text/plain": [
       "                         public_url                              post_url  \\\n",
       "74329  https://vk.com/chelnynews_ru  https://vk.com/wall-54537775_1272507   \n",
       "\n",
       "                                                                                                                                                                                                                                                                                                                                                                                                                                                           post_text  \\\n",
       "74329  Челнинка выиграла чемпионат Европы по армспорту\\n\\nВ Болгарии завершились чемпионат и первенство Европы по армспорту. Среди девушек до 21 года в весовой категории до 55 кг чемпионкой стала спортсменка из Набережных Челнов, воспитанница ДЮСШ «Витязь» Миляуша Гимранова. Третье место в весовой категории до 55 кг занял еще один челнинец - Ирек Зиятдинов. \\n\\nВсего в соревнованиях приняли участие спортсмены из 30 стран.\\n\\nИсточник: chelny-izvest   \n",
       "\n",
       "                                                                                                                                                                                                                                                                                                                                                                                                                                                 cleaned_texts  \\\n",
       "74329  челнинка выиграла чемпионат европы по армспорту  в болгарии завершились чемпионат и первенство европы по армспорту  среди девушек до    года в весовой категории до    кг чемпионкой стала спортсменка из набережных челнов  воспитанница дюсш  витязь  миляуша гимранова  третье место в весовой категории до    кг занял еще один челнинец   ирек зиятдинов    всего в соревнованиях приняли участие спортсмены из    стран   источник                  \n",
       "\n",
       "                                                                                                                                                                                                                                                                                                                                    processed_text  \n",
       "74329  челнинка выиграть чемпионат европа армспорту болгария завершиться чемпионат первенство европа армспорту девушка год весовой категория чемпионка спортсменка набережный чёлн воспитанница дюсш витязь миляуша гимранова третий место весовой категория занять челнинец ирек зиятдинов соревнование принять участие спортсмен страна источник  "
      ]
     },
     "execution_count": 3,
     "metadata": {},
     "output_type": "execute_result"
    }
   ],
   "source": [
    "df.sample(1)"
   ]
  },
  {
   "cell_type": "markdown",
   "id": "20a37d2d",
   "metadata": {},
   "source": [
    "Напишем функцию для вывода топ-слов в каждом кластере"
   ]
  },
  {
   "cell_type": "code",
   "execution_count": 4,
   "id": "a6486472",
   "metadata": {},
   "outputs": [],
   "source": [
    "def print_top_words(kmeans, terms, n_top_words):\n",
    "\n",
    "    order_centroids = kmeans.cluster_centers_.argsort()[:, ::-1]\n",
    "\n",
    "    for i in range(kmeans.n_clusters):\n",
    "        top_terms = [terms[ind] for ind in order_centroids[i, :n_top_words]]\n",
    "    \n",
    "        print(f'Tема {i}: {\", \".join(top_terms)}')"
   ]
  },
  {
   "cell_type": "markdown",
   "id": "29f5e959",
   "metadata": {},
   "source": [
    "### Векторизуем тексты с помощью TfidfVectorizer. \n",
    "\n",
    "Так как данные достаточно шумные будем рассматривать униграммы, биграммы и убирать токен, если он встречается в более чем 85% текстов и встречается менее чем в 10-ти  текстах. Максимальное количество признаков - 10000"
   ]
  },
  {
   "cell_type": "code",
   "execution_count": 5,
   "id": "53c8bab0",
   "metadata": {},
   "outputs": [],
   "source": [
    "tfidf_vectorizer = TfidfVectorizer(\n",
    "    max_df=0.85,            \n",
    "    min_df=10,               \n",
    "    ngram_range=(1, 2),\n",
    "    max_features=10000\n",
    ")\n",
    "X_tfidf = tfidf_vectorizer.fit_transform(df['processed_text'])"
   ]
  },
  {
   "cell_type": "markdown",
   "id": "569c69da",
   "metadata": {},
   "source": [
    "Перед отправкой в модель нормализуем данные"
   ]
  },
  {
   "cell_type": "code",
   "execution_count": 6,
   "id": "3c3d15bc",
   "metadata": {},
   "outputs": [],
   "source": [
    "normalizer = Normalizer()\n",
    "X_normalized = normalizer.fit_transform(X_tfidf)"
   ]
  },
  {
   "cell_type": "markdown",
   "id": "017bd3a8",
   "metadata": {},
   "source": [
    "В планах обучать модель LDA и результаты её работы отдавать модели KMeans в качестве начальных центроид."
   ]
  },
  {
   "cell_type": "markdown",
   "id": "c108a7aa",
   "metadata": {},
   "source": [
    "Для этого выполним подбор оптимального количества кластеров с помощью метода локтя. Будем перебирать количество кластеров от 25 до 35 включительно."
   ]
  },
  {
   "cell_type": "code",
   "execution_count": 7,
   "id": "be59117b",
   "metadata": {},
   "outputs": [
    {
     "data": {
      "application/vnd.jupyter.widget-view+json": {
       "model_id": "9b51626e2d17446899e9d5881ce77601",
       "version_major": 2,
       "version_minor": 0
      },
      "text/plain": [
       "Обработка кластеров:   0%|          | 0/11 [00:00<?, ?it/s]"
      ]
     },
     "metadata": {},
     "output_type": "display_data"
    }
   ],
   "source": [
    "inertia_values = []\n",
    "\n",
    "# перебор количества кластеров\n",
    "for n_clusters in tqdm(range(25, 36), desc='Обработка кластеров'):\n",
    "    # обучение LDA\n",
    "    lda = LatentDirichletAllocation(n_components=n_clusters, random_state=42)\n",
    "    lda.fit(X_normalized)\n",
    "\n",
    "    # получение центроид\n",
    "    lda_centroids = lda.components_\n",
    "\n",
    "    # KMeans принимает нормализованные векторы\n",
    "    # по этой причине будем нормализовать центроиды LDA\n",
    "    lda_centroids = lda_centroids / lda_centroids.sum(axis=1)[:, np.newaxis]\n",
    "\n",
    "    # обучение KMeans с центроидами от LDA\n",
    "    kmeans = KMeans(n_clusters=n_clusters, init=lda_centroids, n_init=1, random_state=42)\n",
    "    kmeans.fit(X_normalized)\n",
    "\n",
    "    # добавляем значения инерции\n",
    "    inertia_values.append(kmeans.inertia_)"
   ]
  },
  {
   "cell_type": "markdown",
   "id": "9467ac0b",
   "metadata": {},
   "source": [
    "Теперь построим график метода локтя для визуальной оценки оптимального числа кластеров"
   ]
  },
  {
   "cell_type": "code",
   "execution_count": 8,
   "id": "2ea1be8e",
   "metadata": {},
   "outputs": [
    {
     "data": {
      "image/png": "[encoded data removed]",
      "text/plain": [
       "<Figure size 1000x600 with 1 Axes>"
      ]
     },
     "metadata": {},
     "output_type": "display_data"
    }
   ],
   "source": [
    "plt.figure(figsize=(10, 6))\n",
    "plt.plot(range(25, 36), inertia_values, marker='o')\n",
    "plt.title('Метод локтя')\n",
    "plt.xlabel('Количество кластеров')\n",
    "plt.ylabel('Инерция')\n",
    "plt.xticks(range(25, 36))\n",
    "plt.grid()\n",
    "plt.show()"
   ]
  },
  {
   "cell_type": "markdown",
   "id": "7945c024",
   "metadata": {},
   "source": [
    "Из графика видно, что оптимальное число кластеров - 34"
   ]
  },
  {
   "cell_type": "code",
   "execution_count": 9,
   "id": "6a9ce978",
   "metadata": {},
   "outputs": [],
   "source": [
    "n_clusters = 34"
   ]
  },
  {
   "cell_type": "code",
   "execution_count": 10,
   "id": "461fa5f6",
   "metadata": {},
   "outputs": [],
   "source": [
    "lda = LatentDirichletAllocation(n_components=n_clusters, random_state=12345)\n",
    "lda.fit(X_normalized)\n",
    "\n",
    "lda_centroids = lda.components_\n",
    "\n",
    "lda_centroids = lda_centroids / lda_centroids.sum(axis=1)[:, np.newaxis]"
   ]
  },
  {
   "cell_type": "code",
   "execution_count": 11,
   "id": "18ec7068",
   "metadata": {},
   "outputs": [],
   "source": [
    "kmeans = KMeans(n_clusters=n_clusters, init=lda_centroids, n_init=1, random_state=12345)\n",
    "kmeans.fit(X_normalized)\n",
    "\n",
    "labels_kmeans = kmeans.labels_\n",
    "\n",
    "terms = tfidf_vectorizer.get_feature_names_out()"
   ]
  },
  {
   "cell_type": "code",
   "execution_count": 36,
   "id": "66cb39f2",
   "metadata": {},
   "outputs": [
    {
     "name": "stdout",
     "output_type": "stream",
     "text": [
      "Tема 0: пожар, мчс, пожарный, спасатель, возгорание, мужчина, огонь, дом, рыбак, район\n",
      "Tема 1: россия, год, путин, российский, страна, президент, украина, депутат, владимир, заявить\n",
      "Tема 2: ребёнок, родитель, детский, семья, год, сад, девочка, мама, мальчик, мать\n",
      "Tема 3: водитель, гибдд, автомобиль, машина, дорога, движение, сотрудник гибдд, сотрудник, дорожный, штраф\n",
      "Tема 4: год, новый, человек, время, казань, сегодня, слово, день, видео, первый\n",
      "Tема 5: школа, ребёнок, класс, учитель, ученик, образование, учебный, родитель, год, школьник\n",
      "Tема 6: пропасть, чёрный, местонахождение, помочь найти, пропажа, телосложение, примета, найти человек, местонахождение неизвестный, волос\n",
      "Tема 7: мужчина, летний, полиция, задержать, женщина, полицейский, уголовный, сотрудник, чёлн, дело\n",
      "Tема 8: матч, команда, клуб, игра, футбольный, лига, стадион, рубин, футбол, болельщик\n",
      "Tема 9: мэр, магдеев, наиль, город, наиль магдеев, чёлн, набережный, мэр город, набережный чёлн, руководитель\n",
      "Tема 10: конкурс, фестиваль, театр, участие, пройти, год, спектакль, победитель, состояться, хороший\n",
      "Tема 11: дело, уголовный, уголовный дело, суд, год, возбудить, следствие, летний, возбудить уголовный, отношение\n",
      "Tема 12: дтп, водитель, автомобиль, летний, авария, произойти, погибнуть, травма, летний водитель, результат\n",
      "Tема 13: чёлн, набережный, город, набережный чёлн, год, челны, набережный челны, центр, работа, новый\n",
      "Tема 14: автобус, маршрут, транспорт, остановка, пассажир, водитель, перевозка, пассажирский, перевозчик, город\n",
      "Tема 15: парк, парк победа, победа, город, чёлн, прибрежный, парк прибрежный, парк культура, набережный, проект\n",
      "Tема 16: вода, горячий, горячий вода, дом, холодный, комплекс, отключить, река, холодный вода, тепловой\n",
      "Tема 17: врач, скорый, больница, помощь, пациент, медицинский, летний, медик, бсмп, скорый помощь\n",
      "Tема 18: коронавирус, случай, сутки, татарстан, новый случай, инфекция, человек, заболеть, заражение, заболевание\n",
      "Tема 19: дом, подъезд, двор, квартира, жилой, житель, жилой дом, жилец, компания, комплекс\n",
      "Tема 20: татарстан, республика, год, житель, республика татарстан, район, житель татарстан, казань, регион, министр\n",
      "Tема 21: рубль, млн, млн рубль, тысяча, тысяча рубль, год, млрд, млрд рубль, тыс, миллион\n",
      "Tема 22: дорога, проспект, ремонт, движение, участок, улица, дорожный, работа, чёлн, мост\n",
      "Tема 23: человек, жизнь, год, говорить, знать, девушка, время, жить, женщина, друг\n",
      "Tема 24: суд, прокуратура, нарушение, участок, исполком, земельный, ооо, проверка, чёлн, компания\n",
      "Tема 25: завод, производство, компания, предприятие, год, автомобиль, рабочий, директор, новый, работа\n",
      "Tема 26: цена, рубль, рост, год, подорожать, стоимость, вырасти, продукт, бензин, рост цена\n",
      "Tема 27: собака, животное, хозяин, приют, бездомный, кошка, пёс, ошейник, бездомный животное, порода\n",
      "Tема 28: градус, ветер, температура, день, ожидаться, воздух, температура воздух, метр секунда, утро, ночь\n",
      "Tема 29: самолёт, аэропорт, ралли, рейс, экипаж, мастер, команда, дакар, бегишево, команда мастер\n",
      "Tема 30: анонимно, человек, знать, здравствовать, спасибо, машина, просить, подсказать, сказать, ребёнок\n",
      "Tема 31: день, добрый, праздник, добрый утро, утро, добрый день, день рождение, год, рождение, выходной\n",
      "Tема 32: соревнование, чемпионат, сборная, команда, турнир, россия, спортсмен, мир, чемпионат мир, сборная россия\n",
      "Tема 33: минниханов, президент, татарстан, рустам, рустам минниханов, президент татарстан, республика, руст минниханов, руст, татарстан рустам\n"
     ]
    }
   ],
   "source": [
    "print_top_words(kmeans, terms, 10)"
   ]
  },
  {
   "cell_type": "code",
   "execution_count": 37,
   "id": "0ba1787f",
   "metadata": {},
   "outputs": [],
   "source": [
    "topics = {\n",
    "    0: \"пожар\",\n",
    "    1: \"политика\",\n",
    "    2: \"семья\",\n",
    "    3: \"дорожное движение\",\n",
    "    4: \"социальные события, разное\",\n",
    "    5: \"образование\",\n",
    "    6: \"пропажа\",\n",
    "    7: \"полиция и криминал\",\n",
    "    8: \"футбол\",\n",
    "    9: \"областная политика\",\n",
    "    10: \"конкурсы и фестивали\",\n",
    "    11: \"правосудие\",\n",
    "    12: \"авария\",\n",
    "    13: \"город\",\n",
    "    14: \"транспорт\",\n",
    "    15: \"парки и развлечения\",\n",
    "    16: \"водоснабжение и ЖКХ\",\n",
    "    17: \"медицинская помощь\",\n",
    "    18: \"коронавирус\",\n",
    "    19: \"жильё\",\n",
    "    20: \"республика татарстан\",\n",
    "    21: \"финансы\",\n",
    "    22: \"ремонт\",\n",
    "    23: \"общество\",\n",
    "    24: \"проверка\",\n",
    "    25: \"работа\",\n",
    "    26: \"экономика\",\n",
    "    27: \"животные\",\n",
    "    28: \"погода\",\n",
    "    29: \"авиация\",\n",
    "    30: \"информация от граждан\",\n",
    "    31: \"праздник\",\n",
    "    32: \"спорт\",\n",
    "    33: \"руководство\"\n",
    "}\n"
   ]
  },
  {
   "cell_type": "code",
   "execution_count": 38,
   "id": "e69f830a",
   "metadata": {},
   "outputs": [],
   "source": [
    "df['cluster_label'] = kmeans.predict(X_normalized)"
   ]
  },
  {
   "cell_type": "code",
   "execution_count": 39,
   "id": "57ee53e6",
   "metadata": {},
   "outputs": [],
   "source": [
    "df['cluster_name'] = df['cluster_label'].map(topics)"
   ]
  },
  {
   "cell_type": "markdown",
   "id": "1ce07ffe",
   "metadata": {},
   "source": [
    "## Полный цикл обработки и кластеризации"
   ]
  },
  {
   "cell_type": "markdown",
   "id": "cd085e19",
   "metadata": {},
   "source": [
    "Модель, векторизатор и нормализатор можно загрузить из отдельных файлов с помощью joblib.load"
   ]
  },
  {
   "cell_type": "code",
   "execution_count": 46,
   "id": "89fe0440",
   "metadata": {},
   "outputs": [],
   "source": [
    "import re\n",
    "import spacy\n",
    "from sklearn.preprocessing import Normalizer\n",
    "from sklearn.cluster import KMeans\n",
    "\n",
    "# Загрузка модели русского языка для SpaCy\n",
    "nlp = spacy.load(\"ru_core_news_sm\")\n",
    "\n",
    "def classify_text(text, tfidf_vectorizer, normalizer, kmeans_model):\n",
    "    # Функция для очистки текста\n",
    "    def clean_text(text):\n",
    "        text = text.replace('\\n', ' ')  \n",
    "        text = re.sub(r'http\\S+', '', text) \n",
    "        text = re.sub(r'www\\.\\S+', '', text)\n",
    "        text = re.sub(r'\\S+@\\S+\\.\\S+', '', text) \n",
    "        text = re.sub(r'#\\w+', '', text)\n",
    "        text = re.sub('[^а-яА-ЯёЁ ]', ' ', text) \n",
    "        text = text.lower() \n",
    "        return text\n",
    "\n",
    "    # Функция для лемматизации текста\n",
    "    def lem_tok_text(text):\n",
    "        if isinstance(text, str):\n",
    "            doc = nlp(text)\n",
    "            lemmatized_tokens = [token.lemma_ for token in doc if not token.is_stop and not token.is_punct]\n",
    "            return ' '.join(lemmatized_tokens)\n",
    "        else:\n",
    "            return ''\n",
    "\n",
    "    # Функция для фильтрации коротких слов\n",
    "    def remove_short_words(text):\n",
    "        return ' '.join([word for word in text.split() if len(word) >= 3])\n",
    "\n",
    "    # Очистка и обработка текста\n",
    "    cleaned_text = clean_text(text)\n",
    "    processed_text = lem_tok_text(cleaned_text)\n",
    "    processed_text = remove_short_words(processed_text)\n",
    "\n",
    "    # Проверьте, достаточно ли слов в обработанном тексте\n",
    "    if len(processed_text.split()) < 10:\n",
    "        return \"Недостаточно слов в тексте\", \"Неизвестная тема\" \n",
    "\n",
    "    # Векторизация и нормализация\n",
    "    tfidf_vector = tfidf_vectorizer.transform([processed_text])\n",
    "    normalized_vector = normalizer.transform(tfidf_vector)\n",
    "\n",
    "    # Кластеризация\n",
    "    cluster = kmeans_model.predict(normalized_vector)[0]\n",
    "\n",
    "    # Определение темы\n",
    "    topics = {\n",
    "        0: \"пожар\",\n",
    "        1: \"политика\",\n",
    "        2: \"семья\",\n",
    "        3: \"дорожное движение\",\n",
    "        4: \"социальные события, разное\",\n",
    "        5: \"образование\",\n",
    "        6: \"пропажа\",\n",
    "        7: \"полиция и криминал\",\n",
    "        8: \"футбол\",\n",
    "        9: \"областная политика\",\n",
    "        10: \"конкурсы и фестивали\",\n",
    "        11: \"правосудие\",\n",
    "        12: \"авария\",\n",
    "        13: \"город\",\n",
    "        14: \"транспорт\",\n",
    "        15: \"парки и развлечения\",\n",
    "        16: \"водоснабжение и ЖКХ\",\n",
    "        17: \"медицинская помощь\",\n",
    "        18: \"коронавирус\",\n",
    "        19: \"жильё\",\n",
    "        20: \"республика татарстан\",\n",
    "        21: \"финансы\",\n",
    "        22: \"ремонт\",\n",
    "        23: \"общество\",\n",
    "        24: \"проверка\",\n",
    "        25: \"работа\",\n",
    "        26: \"экономика\",\n",
    "        27: \"животные\",\n",
    "        28: \"погода\",\n",
    "        29: \"авиация\",\n",
    "        30: \"информация от граждан\",\n",
    "        31: \"праздник\",\n",
    "        32: \"спорт\",\n",
    "        33: \"руководство\"\n",
    "    }\n",
    "\n",
    "    topic = topics.get(cluster, \"Неизвестная тема\")\n",
    "\n",
    "    return f\"Кластер: {cluster}\", topic\n"
   ]
  },
  {
   "cell_type": "code",
   "execution_count": 48,
   "id": "aff6a263",
   "metadata": {},
   "outputs": [
    {
     "name": "stdout",
     "output_type": "stream",
     "text": [
      "Кластер: 19\n",
      "Тема: жильё\n"
     ]
    }
   ],
   "source": [
    "text = '''Владелец компании «Еврокрона» Надир Краснов прокомментировал ситуацию вокруг объекта в 48-м микрорайоне Набережных Челнов. Конфликт между соседями в эти дни разгорается с новой силой. Жители, которые выступают против того, чтобы застройщик подключался к сетям их дома, сообщили, что к объекту вновь вызывали полицию. На прошлой неделе уже был подобный случай. Тогда полиция приехала по звонку застройщика.\n",
    "\n",
    "- Жители соседнего дома занимаются вредительством - не дают выполнить работы, которые полностью согласованы, - рассказал Краснов. - Они ставили машины на колодцы сетей. Не давали доступ нам, поэтому полицию вызывали. Бойкотируют, мешают, на работников «Челныводоканала» нападают. Выходят со своими пикетами. Речь идет о подключении к сетям. Вся документация имеется, ордер на земельные работы открыт. У жителей же позиция – «не хотим, чтобы здесь что-то делали», и все. Подрядчиком является «Челныводоканал» - известная в городе компания. Протокол, который они сделали (ранее жители ссылались на документ, подписанный по итогам общего собрания, - ред.), не имеет никакой законной силы. Сети являются городскими. Они не имеют права препятствовать подключениям. Да, это их общедомовая территория, никто с этим не спорит. Да, сеть находится на их территории. Мы сейчас без разрушения дорожного полотна все это делаем. Они даже не увидят и не услышат.\n",
    "\n",
    "Тем временем жители продолжают дежурить во дворе, охраняя свою придомовую территорию. По их словам, в ордерах, выписанных на земельные работы, указан адрес не их дома. Кроме того, ранее они передали своей УК «Строим будущее» протокол общего собрания, в котором большинство проголосовало против того, чтобы на общедомовой территории велись строительные работы. Горожане жалуются, что управляющая компания ситуацию проигнорировала.'''\n",
    "\n",
    "cluster_message, topic = classify_text(text, tfidf_vectorizer, normalizer, kmeans)\n",
    "\n",
    "print(cluster_message)\n",
    "print(\"Тема:\", topic)"
   ]
  },
  {
   "cell_type": "code",
   "execution_count": null,
   "id": "6a317bf0",
   "metadata": {},
   "outputs": [],
   "source": []
  }
 ],
 "metadata": {
  "kernelspec": {
   "display_name": "Python 3 (ipykernel)",
   "language": "python",
   "name": "python3"
  },
  "language_info": {
   "codemirror_mode": {
    "name": "ipython",
    "version": 3
   },
   "file_extension": ".py",
   "mimetype": "text/x-python",
   "name": "python",
   "nbconvert_exporter": "python",
   "pygments_lexer": "ipython3",
   "version": "3.11.5"
  },
  "varInspector": {
   "cols": {
    "lenName": 16,
    "lenType": 16,
    "lenVar": 40
   },
   "kernels_config": {
    "python": {
     "delete_cmd_postfix": "",
     "delete_cmd_prefix": "del ",
     "library": "var_list.py",
     "varRefreshCmd": "print(var_dic_list())"
    },
    "r": {
     "delete_cmd_postfix": ") ",
     "delete_cmd_prefix": "rm(",
     "library": "var_list.r",
     "varRefreshCmd": "cat(var_dic_list()) "
    }
   },
   "types_to_exclude": [
    "module",
    "function",
    "builtin_function_or_method",
    "instance",
    "_Feature"
   ],
   "window_display": false
  }
 },
 "nbformat": 4,
 "nbformat_minor": 5
}
