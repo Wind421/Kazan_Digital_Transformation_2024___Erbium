{
 "cells": [
  {
   "cell_type": "code",
   "execution_count": 32,
   "id": "fcd76bb9",
   "metadata": {},
   "outputs": [],
   "source": [
    "from tqdm.notebook import tqdm\n",
    "import pandas as pd \n",
    "import numpy as np\n",
    "import matplotlib.pyplot as plt\n",
    "import re \n",
    "from sklearn.feature_extraction.text import CountVectorizer, TfidfVectorizer\n",
    "from sklearn.decomposition import LatentDirichletAllocation, TruncatedSVD\n",
    "from sklearn.cluster import KMeans, MiniBatchKMeans\n",
    "from sklearn.preprocessing import Normalizer\n",
    "\n",
    "import gensim\n",
    "import gensim.corpora as corpora\n",
    "import pyLDAvis\n",
    "import pyLDAvis.gensim_models\n",
    "\n",
    "import spacy \n",
    "\n",
    "pd.set_option('display.max_colwidth', None) "
   ]
  },
  {
   "cell_type": "code",
   "execution_count": 2,
   "id": "369cb46a",
   "metadata": {},
   "outputs": [],
   "source": [
    "# Данные были спаршены из 4-х новостных пабликов республики Татарстан\n",
    "df = pd.read_csv(r\"C:\\Users\\ilyal\\OneDrive\\Рабочий стол\\hackaton\\files\\posts_new.csv\")"
   ]
  },
  {
   "cell_type": "code",
   "execution_count": 4,
   "id": "e37fadb1",
   "metadata": {},
   "outputs": [
    {
     "name": "stdout",
     "output_type": "stream",
     "text": [
      "<class 'pandas.core.frame.DataFrame'>\n",
      "RangeIndex: 150300 entries, 0 to 150299\n",
      "Data columns (total 3 columns):\n",
      " #   Column      Non-Null Count   Dtype \n",
      "---  ------      --------------   ----- \n",
      " 0   public_url  150300 non-null  object\n",
      " 1   post_url    150300 non-null  object\n",
      " 2   post_text   138004 non-null  object\n",
      "dtypes: object(3)\n",
      "memory usage: 3.4+ MB\n"
     ]
    }
   ],
   "source": [
    "df.info()"
   ]
  },
  {
   "cell_type": "code",
   "execution_count": 5,
   "id": "02af8130",
   "metadata": {},
   "outputs": [
    {
     "data": {
      "text/plain": [
       "public_url        0\n",
       "post_url          0\n",
       "post_text     12296\n",
       "dtype: int64"
      ]
     },
     "execution_count": 5,
     "metadata": {},
     "output_type": "execute_result"
    }
   ],
   "source": [
    "df.isna().sum()"
   ]
  },
  {
   "cell_type": "markdown",
   "id": "2538df16",
   "metadata": {},
   "source": [
    "Всего получего 150300 обьектов, из них 12296 были собраны некорректно, либо содержали в себе только фотографию "
   ]
  },
  {
   "cell_type": "code",
   "execution_count": 6,
   "id": "040d1eb4",
   "metadata": {},
   "outputs": [
    {
     "data": {
      "text/plain": [
       "0"
      ]
     },
     "execution_count": 6,
     "metadata": {},
     "output_type": "execute_result"
    }
   ],
   "source": [
    "df.duplicated().sum()"
   ]
  },
  {
   "cell_type": "markdown",
   "id": "b1b729c2",
   "metadata": {},
   "source": [
    "Дубликатов в исходных данных нет"
   ]
  },
  {
   "cell_type": "markdown",
   "id": "ddb96e91",
   "metadata": {},
   "source": [
    "Дропнем пропуски"
   ]
  },
  {
   "cell_type": "code",
   "execution_count": 7,
   "id": "9f76bcd6",
   "metadata": {},
   "outputs": [],
   "source": [
    "df.dropna(inplace=True)"
   ]
  },
  {
   "cell_type": "code",
   "execution_count": 8,
   "id": "b7d3e846",
   "metadata": {},
   "outputs": [
    {
     "name": "stdout",
     "output_type": "stream",
     "text": [
      "<class 'pandas.core.frame.DataFrame'>\n",
      "Index: 138004 entries, 0 to 150299\n",
      "Data columns (total 3 columns):\n",
      " #   Column      Non-Null Count   Dtype \n",
      "---  ------      --------------   ----- \n",
      " 0   public_url  138004 non-null  object\n",
      " 1   post_url    138004 non-null  object\n",
      " 2   post_text   138004 non-null  object\n",
      "dtypes: object(3)\n",
      "memory usage: 4.2+ MB\n"
     ]
    }
   ],
   "source": [
    "df.info()"
   ]
  },
  {
   "cell_type": "markdown",
   "id": "480328fd",
   "metadata": {},
   "source": [
    "Теперь всё ок"
   ]
  },
  {
   "cell_type": "markdown",
   "id": "70545800",
   "metadata": {},
   "source": [
    "Очистим текст от различных артефактов"
   ]
  },
  {
   "cell_type": "code",
   "execution_count": 9,
   "id": "73532980",
   "metadata": {},
   "outputs": [],
   "source": [
    "def clean_text(text):\n",
    "    text = text.replace('\\n', ' ')  # удаление новых строк\n",
    "    # удаление ссылок\n",
    "    text = re.sub(r'http\\S+', '', text) \n",
    "    text = re.sub(r'www\\.\\S+', '', text)\n",
    "    text = re.sub(r'\\S+@\\S+\\.\\S+', '', text) # удаление email адресов\n",
    "    text = re.sub(r'#\\w+', '', text)\n",
    "    text = re.sub('[^а-яА-ЯёЁ ]', ' ', text)  # оставляем только латинские буквы\n",
    "    text = text.lower()  # приведение к нижнему регистру\n",
    "    return text"
   ]
  },
  {
   "cell_type": "code",
   "execution_count": 10,
   "id": "669e66cf",
   "metadata": {},
   "outputs": [],
   "source": [
    "df['cleaned_texts'] = df['post_text'].apply(clean_text)"
   ]
  },
  {
   "cell_type": "markdown",
   "id": "53c7352b",
   "metadata": {},
   "source": [
    "Лемматизируем текст с помощью Spacy"
   ]
  },
  {
   "cell_type": "code",
   "execution_count": 13,
   "id": "1eacc909",
   "metadata": {},
   "outputs": [],
   "source": [
    "# Загрузка модели русского языка для SpaCy\n",
    "nlp = spacy.load(\"ru_core_news_sm\")\n",
    "\n",
    "def lem_tok_text(text):\n",
    "    # Проверка, является ли текст строкой\n",
    "    if isinstance(text, str):\n",
    "        \n",
    "        # Обработка текста с помощью SpaCy\n",
    "        doc = nlp(text)\n",
    "        \n",
    "        # Удаление стоп-слов и лемматизация\n",
    "        lemmatized_tokens = [token.lemma_ for token in doc if not token.is_stop and not token.is_punct]\n",
    "        \n",
    "        # Возвращаем строку из лемматизированных слов\n",
    "        return ' '.join(lemmatized_tokens)\n",
    "    else:\n",
    "        return ''  # Возвращаем пустую строку для значений, которые не являются строками"
   ]
  },
  {
   "cell_type": "code",
   "execution_count": 14,
   "id": "d1da881b",
   "metadata": {},
   "outputs": [
    {
     "data": {
      "application/vnd.jupyter.widget-view+json": {
       "model_id": "8b0cc1f84eb9470e8e649586799c8321",
       "version_major": 2,
       "version_minor": 0
      },
      "text/plain": [
       "  0%|          | 0/138004 [00:00<?, ?it/s]"
      ]
     },
     "metadata": {},
     "output_type": "display_data"
    }
   ],
   "source": [
    "tqdm.pandas()\n",
    "df['processed_text'] = df['cleaned_texts'].progress_apply(lem_tok_text)"
   ]
  },
  {
   "cell_type": "code",
   "execution_count": 46,
   "id": "768ad5c5",
   "metadata": {},
   "outputs": [],
   "source": [
    "# Функция для фильтрации слов\n",
    "def remove_short_words(text):\n",
    "    # Разделяем текст на слова, фильтруем и присоединяем обратно\n",
    "    return ' '.join([word for word in text.split() if len(word) >= 3])\n",
    "\n",
    "# Применяем функцию к столбцу\n",
    "df['processed_text'] = df['processed_text'].apply(remove_short_words)"
   ]
  },
  {
   "cell_type": "code",
   "execution_count": 95,
   "id": "a6986f02",
   "metadata": {},
   "outputs": [],
   "source": [
    "df = df[df['processed_text'].apply(lambda x: len(x.split()) >= 10)]"
   ]
  },
  {
   "cell_type": "code",
   "execution_count": 47,
   "id": "d7c29ecd",
   "metadata": {},
   "outputs": [],
   "source": [
    "documents = df['processed_text'].tolist()"
   ]
  },
  {
   "cell_type": "code",
   "execution_count": 34,
   "id": "6a9dc3f1",
   "metadata": {},
   "outputs": [],
   "source": [
    "dictionary = corpora.Dictionary([doc.split() for doc in documents])"
   ]
  },
  {
   "cell_type": "code",
   "execution_count": 35,
   "id": "f62d9d11",
   "metadata": {},
   "outputs": [],
   "source": [
    "corpus = [dictionary.doc2bow(doc.split()) for doc in documents] "
   ]
  },
  {
   "cell_type": "code",
   "execution_count": 25,
   "id": "db720fa5",
   "metadata": {},
   "outputs": [],
   "source": [
    "n_clusters = 25 \n",
    "lda_model = gensim.models.LdaModel(corpus, num_topics=n_clusters, id2word=dictionary, random_state=42)"
   ]
  },
  {
   "cell_type": "code",
   "execution_count": 48,
   "id": "bf63bde3",
   "metadata": {},
   "outputs": [],
   "source": [
    "# Выберите подвыборку данных\n",
    "subset_documents = documents[:50000] \n",
    "dictionary = corpora.Dictionary([doc.split() for doc in subset_documents])\n",
    "corpus = [dictionary.doc2bow(doc.split()) for doc in subset_documents]"
   ]
  },
  {
   "cell_type": "code",
   "execution_count": 49,
   "id": "a88f12b4",
   "metadata": {},
   "outputs": [],
   "source": [
    "n_clusters = 25 \n",
    "lda_model = gensim.models.LdaModel(corpus, num_topics=n_clusters, id2word=dictionary, random_state=42)"
   ]
  },
  {
   "cell_type": "code",
   "execution_count": 50,
   "id": "2f67744b",
   "metadata": {},
   "outputs": [],
   "source": [
    "vis = pyLDAvis.gensim_models.prepare(lda_model, corpus, dictionary)\n",
    "pyLDAvis.save_html(vis, r\"C:\\Users\\ilyal\\OneDrive\\Рабочий стол\\hackaton\\files\\lda_visualisation_50k.html\") "
   ]
  },
  {
   "cell_type": "code",
   "execution_count": null,
   "id": "e8bc7a49",
   "metadata": {},
   "outputs": [],
   "source": []
  },
  {
   "cell_type": "markdown",
   "id": "da18e278",
   "metadata": {},
   "source": [
    "---"
   ]
  }
 ],
 "metadata": {
  "kernelspec": {
   "display_name": "Python 3 (ipykernel)",
   "language": "python",
   "name": "python3"
  },
  "language_info": {
   "codemirror_mode": {
    "name": "ipython",
    "version": 3
   },
   "file_extension": ".py",
   "mimetype": "text/x-python",
   "name": "python",
   "nbconvert_exporter": "python",
   "pygments_lexer": "ipython3",
   "version": "3.11.5"
  },
  "varInspector": {
   "cols": {
    "lenName": 16,
    "lenType": 16,
    "lenVar": 40
   },
   "kernels_config": {
    "python": {
     "delete_cmd_postfix": "",
     "delete_cmd_prefix": "del ",
     "library": "var_list.py",
     "varRefreshCmd": "print(var_dic_list())"
    },
    "r": {
     "delete_cmd_postfix": ") ",
     "delete_cmd_prefix": "rm(",
     "library": "var_list.r",
     "varRefreshCmd": "cat(var_dic_list()) "
    }
   },
   "types_to_exclude": [
    "module",
    "function",
    "builtin_function_or_method",
    "instance",
    "_Feature"
   ],
   "window_display": false
  }
 },
 "nbformat": 4,
 "nbformat_minor": 5
}
